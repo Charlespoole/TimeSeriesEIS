{
 "cells": [
  {
   "cell_type": "code",
   "execution_count": 17,
   "metadata": {},
   "outputs": [],
   "source": [
    "import numpy as np\n",
    "import pandas as pd\n",
    "import matplotlib.pyplot as plt\n",
    "import seaborn as sns # Visualization\n",
    "from scipy import stats\n",
    "import tensorflow as tf\n",
    "import keras\n",
    "from keras.models import Sequential\n",
    "from keras.layers import Dense\n",
    "from keras.layers import LSTM\n",
    "from keras.layers import Dropout\n",
    "from keras.layers import *\n",
    "from sklearn.preprocessing import MinMaxScaler\n",
    "from keras.callbacks import ReduceLROnPlateau\n",
    "import pickle\n",
    "from tensorflow.keras.models import load_model\n",
    "import os\n",
    "from sklearn.metrics import r2_score"
   ]
  },
  {
   "cell_type": "code",
   "execution_count": 3,
   "metadata": {},
   "outputs": [
    {
     "data": {
      "text/plain": [
       "0         4.0\n",
       "1         3.9\n",
       "2         3.8\n",
       "3         3.7\n",
       "4         3.6\n",
       "         ... \n",
       "809995   -3.6\n",
       "809996   -3.7\n",
       "809997   -3.8\n",
       "809998   -3.9\n",
       "809999   -4.0\n",
       "Name: Freq_Log, Length: 810000, dtype: float64"
      ]
     },
     "execution_count": 3,
     "metadata": {},
     "output_type": "execute_result"
    }
   ],
   "source": [
    "# Load data\n",
    "df = pd.read_csv('data.csv')\n",
    "# Convert the cyclic frequency into sin and cos distributions\n",
    "df['Freq_Log'] = np.log10(df.pop(\"Frequency\"))-2\n",
    "df[\"Freq_sin\"] = np.sin(df['Freq_Log'] * (2 * np.pi / 8.0))\n",
    "df[\"Freq_cos\"] = np.cos(df['Freq_Log'] * (2 * np.pi / 8.0))\n",
    "df[np.abs(df) < 1e-15] = 0\n",
    "df.pop(\"Freq_Log\")"
   ]
  },
  {
   "cell_type": "code",
   "execution_count": 4,
   "metadata": {},
   "outputs": [],
   "source": [
    "# inverse function takes the normalized y and transforms it to pysical y which represent Zre Zimg |Z| and Phase angle in each column\n",
    "def inverse(scaler,ary):\n",
    "    #ary is the three dimensional numpy array with first dimension being the amount of predicted, second being 20 which is the forecasing number and thrid being 4 representing each label\n",
    "    x = {}\n",
    "    shape = ary.shape[0]*ary.shape[1]\n",
    "    y_pred_reshape = ary.reshape((shape, 4))\n",
    "    y_pred_reshape_pad = np.hstack((y_pred_reshape, np.zeros((shape,2))))\n",
    "    y_back = scaler.inverse_transform(y_pred_reshape_pad)[:, :4]\n",
    "    y_back = y_back.reshape((ary.shape[0], ary.shape[1], 4))\n",
    "    return y_back\n"
   ]
  },
  {
   "cell_type": "code",
   "execution_count": 5,
   "metadata": {},
   "outputs": [],
   "source": [
    "# Spllit the dataset into features and labels\n",
    "def create_dataset(dataset, period=81, look_back=61, future=20):\n",
    "    X, Y = [], []\n",
    "    for i in range(len(dataset)//period):\n",
    "        start = i*period\n",
    "        a = dataset[start:(start+look_back)]\n",
    "        X.append(a)\n",
    "        b = dataset[start+look_back:start+look_back+future,:4]\n",
    "        Y.append(b)\n",
    "    return np.array(X), np.array(Y)"
   ]
  },
  {
   "cell_type": "code",
   "execution_count": 6,
   "metadata": {},
   "outputs": [
    {
     "name": "stderr",
     "output_type": "stream",
     "text": [
      "/home/jihua/anaconda3/envs/tf/lib/python3.9/site-packages/sklearn/base.py:376: InconsistentVersionWarning: Trying to unpickle estimator MinMaxScaler from version 1.3.2 when using version 1.4.1.post1. This might lead to breaking code or invalid results. Use at your own risk. For more info please refer to:\n",
      "https://scikit-learn.org/stable/model_persistence.html#security-maintainability-limitations\n",
      "  warnings.warn(\n"
     ]
    }
   ],
   "source": [
    "#Load the scaler for normlization\n",
    "with open('scaler.pkl', 'rb') as f:\n",
    "    scaler = pickle.load(f)"
   ]
  },
  {
   "cell_type": "code",
   "execution_count": 15,
   "metadata": {},
   "outputs": [],
   "source": [
    "#This function calculates the R2 values between the ground truth and the predicted on Zre, Zimg, |Z| and phase angle, \n",
    "#It turns a dataframe\n",
    "#The index of this dataframe is the same index on the test_df\n",
    "def Cal_r2(y_test, y_pred):\n",
    "    r2_dict = {'Zre':[], 'Zimg':[], \"|Z|\":[], 'Phase angle':[]}\n",
    "    r2_df = pd.DataFrame(r2_dict)\n",
    "    Zre_pred = y_pred[:, :, 0]\n",
    "    Zre_test = y_test[:, :, 0]\n",
    "    Zimg_pred = y_pred[:, :, 1]\n",
    "    Zimg_test = y_test[:, :, 1]\n",
    "    absZ_pred = y_pred[:, :, 2]\n",
    "    absZ_test = y_test[:, :, 2]\n",
    "    phase_pred = y_pred[:, :, 3]\n",
    "    phase_test = y_test[:, :, 3]\n",
    "    Zre_r2_ls = np.array([r2_score(Zre_test[i], Zre_pred[i]) for i in range(len(y_test))])\n",
    "    Zimg_r2_ls = np.array([r2_score(Zimg_test[i], Zimg_pred[i]) for i in range(len(y_test))])\n",
    "    absZ_r2_ls = np.array([r2_score(absZ_test[i], absZ_pred[i]) for i in range(len(y_test))])\n",
    "    phase_r2_ls = np.array([r2_score(phase_test[i], phase_pred[i]) for i in range(len(y_test))])\n",
    "    r2_df.Zre = Zre_r2_ls\n",
    "    r2_df.Zimg = Zimg_r2_ls\n",
    "    r2_df['|Z|'] = absZ_r2_ls\n",
    "    r2_df['Phase angle'] = phase_r2_ls\n",
    "    return r2_df\n"
   ]
  },
  {
   "cell_type": "code",
   "execution_count": 7,
   "metadata": {},
   "outputs": [],
   "source": [
    "# Normalize the dataset\n",
    "df_norm = scaler.transform(df)"
   ]
  },
  {
   "cell_type": "code",
   "execution_count": 8,
   "metadata": {},
   "outputs": [],
   "source": [
    "#Split the dataset into train, validation and test\n",
    "x, y = create_dataset(df_norm)\n",
    "x_train = x[:8000]\n",
    "y_train = y[:8000]\n",
    "x_val = x[8000:9000]\n",
    "y_val = y[8000:9000]\n",
    "x_test = x[9000:]\n",
    "y_test = y[9000:]"
   ]
  },
  {
   "cell_type": "code",
   "execution_count": 13,
   "metadata": {},
   "outputs": [],
   "source": [
    "lstm_model = load_model('LSTM_model')\n",
    "dense_model = load_model('Dense_model')\n",
    "CONV_WIDTH = 5\n",
    "conv_model = load_model('Conv_model')\n",
    "transformer_model = load_model(\"Transformer_model\")"
   ]
  },
  {
   "cell_type": "code",
   "execution_count": 14,
   "metadata": {},
   "outputs": [
    {
     "name": "stderr",
     "output_type": "stream",
     "text": [
      "2024-02-19 16:17:08.727436: I tensorflow/compiler/mlir/mlir_graph_optimization_pass.cc:185] None of the MLIR Optimization Passes are enabled (registered 2)\n"
     ]
    }
   ],
   "source": [
    "lstm_pred = lstm_model.predict(x_test)\n",
    "dense_pred = dense_model.predict(x_test)\n",
    "conv_pred = conv_model.predict(x_test)\n",
    "transformer_pred = transformer_model.predict(x_test)"
   ]
  },
  {
   "cell_type": "code",
   "execution_count": 18,
   "metadata": {},
   "outputs": [],
   "source": [
    "dense_r2 = Cal_r2(y_test, dense_pred)\n",
    "lstm_r2 = Cal_r2(y_test, lstm_pred)\n",
    "conv_r2 = Cal_r2(y_test, conv_pred)\n",
    "transformer_r2 = Cal_r2(y_test, transformer_pred)"
   ]
  },
  {
   "cell_type": "code",
   "execution_count": null,
   "metadata": {},
   "outputs": [],
   "source": []
  }
 ],
 "metadata": {
  "kernelspec": {
   "display_name": "tf",
   "language": "python",
   "name": "python3"
  },
  "language_info": {
   "codemirror_mode": {
    "name": "ipython",
    "version": 3
   },
   "file_extension": ".py",
   "mimetype": "text/x-python",
   "name": "python",
   "nbconvert_exporter": "python",
   "pygments_lexer": "ipython3",
   "version": "3.9.7"
  }
 },
 "nbformat": 4,
 "nbformat_minor": 2
}
